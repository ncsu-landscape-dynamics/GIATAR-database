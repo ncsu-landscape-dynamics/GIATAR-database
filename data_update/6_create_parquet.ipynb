{
 "cells": [
  {
   "cell_type": "code",
   "execution_count": 1,
   "metadata": {},
   "outputs": [],
   "source": [
    "import os\n",
    "import pandas as pd\n",
    "import pyarrow as pa\n",
    "import pyarrow.parquet as pq\n",
    "\n"
   ]
  },
  {
   "cell_type": "code",
   "execution_count": 5,
   "metadata": {},
   "outputs": [],
   "source": [
    "# Function to convert the 'usageKey' column to string\n",
    "def convert_to_string(df):\n",
    "    #if \"usageKey\" in df.columns:\n",
    "    if \"usageKey\" in df.columns:\n",
    "        df[\"usageKey\"] = df[\"usageKey\"].astype(str)\n",
    "    return df\n",
    "\n",
    "\n",
    "# Path to the original directory containing CSV files\n",
    "original_folder_path = r\"G:\\GITAR\\PubData\"\n",
    "\n",
    "# Path to the new directory where Parquet files will be saved\n",
    "new_folder_path = r\"G:\\GITAR\\PubData_parquet\"\n",
    "\n",
    "# Create the new directory if it doesn't exist\n",
    "if not os.path.exists(new_folder_path):\n",
    "    os.makedirs(new_folder_path)\n",
    "\n",
    "# Recursively walk through the original directory and its subfolders\n",
    "for root, dirs, files in os.walk(original_folder_path):\n",
    "    # Create corresponding subfolders in the new directory\n",
    "    relative_path = os.path.relpath(root, original_folder_path)\n",
    "    new_subfolder = os.path.join(new_folder_path, relative_path)\n",
    "    if not os.path.exists(new_subfolder):\n",
    "        os.makedirs(new_subfolder)\n",
    "\n",
    "    for file in files:\n",
    "        if file.endswith(\".csv\"):\n",
    "            file_path = os.path.join(root, file)\n",
    "\n",
    "            # Read the CSV file into a DataFrame\n",
    "            df = pd.read_csv(file_path,low_memory=False)\n",
    "\n",
    "            # Convert 'usageKey' column to string\n",
    "            df = convert_to_string(df)\n",
    "\n",
    "            # Get the new file path and change the extension to .parquet\n",
    "            new_file_path = os.path.join(\n",
    "                new_subfolder, file.replace(\".csv\", \".parquet\")\n",
    "            )\n",
    "\n",
    "            # Convert DataFrame to a PyArrow table and save as Parquet file\n",
    "            table = pa.Table.from_pandas(df)\n",
    "            pq.write_table(table, new_file_path)"
   ]
  }
 ],
 "metadata": {
  "kernelspec": {
   "display_name": "Python 3",
   "language": "python",
   "name": "python3"
  },
  "language_info": {
   "codemirror_mode": {
    "name": "ipython",
    "version": 3
   },
   "file_extension": ".py",
   "mimetype": "text/x-python",
   "name": "python",
   "nbconvert_exporter": "python",
   "pygments_lexer": "ipython3",
   "version": "3.10.13"
  }
 },
 "nbformat": 4,
 "nbformat_minor": 2
}
